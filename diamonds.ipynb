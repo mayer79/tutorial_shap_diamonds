{
 "cells": [
  {
   "cell_type": "markdown",
   "metadata": {},
   "source": [
    "# Explain diamonds model"
   ]
  },
  {
   "cell_type": "markdown",
   "metadata": {},
   "source": [
    "## Load libraries and data"
   ]
  },
  {
   "cell_type": "code",
   "execution_count": 2,
   "metadata": {},
   "outputs": [],
   "source": [
    "import numpy as np\n",
    "import pandas as pd\n",
    "import matplotlib.pyplot as plt\n",
    "plt.ion()\n",
    "import seaborn as sns\n",
    "# import os"
   ]
  },
  {
   "cell_type": "markdown",
   "metadata": {},
   "source": [
    "## Prepare data for descriptive analysis"
   ]
  },
  {
   "cell_type": "code",
   "execution_count": null,
   "metadata": {},
   "outputs": [],
   "source": [
    "# Function that prepares a pandas df line by line\n",
    "def preprocess(df):\n",
    "    yes_no = {True: \"ja\", False: \"nein\"}\n",
    "    return df.assign(xx = (bool).map(yes_no))\n",
    "\n",
    "df = preprocess(df)\n",
    "\n",
    "# Important variable groups\n",
    "response = \"…\"\n",
    "num_vars = [\"some cov\"]\n",
    "\n",
    "ordinal_vars = [\"more covs\"]\n",
    "\n",
    "features = num_vars + ordinal_vars"
   ]
  },
  {
   "cell_type": "markdown",
   "metadata": {},
   "source": [
    "## Describe data\n",
    "\n",
    "### Univariate categorical"
   ]
  },
  {
   "cell_type": "code",
   "execution_count": null,
   "metadata": {},
   "outputs": [],
   "source": [
    "g = sns.FacetGrid(df[[response] + ordinal_vars].melt(), col=\"variable\", \n",
    "                  sharex=False, sharey=False, col_wrap=3)\n",
    "g = g.map(sns.countplot, \"value\")\n",
    "g.set_xticklabels(rotation=30, ha=\"right\")\n",
    "g.set_titles(row_template = '{row_name}', col_template = '{col_name}')\n",
    "g.fig.tight_layout()"
   ]
  },
  {
   "cell_type": "markdown",
   "metadata": {},
   "source": [
    "### Univariate numeric"
   ]
  },
  {
   "cell_type": "code",
   "execution_count": null,
   "metadata": {},
   "outputs": [],
   "source": [
    "g = sns.FacetGrid(df[num_vars].melt(), col=\"variable\", \n",
    "                  sharex=False, sharey=False, col_wrap=3)\n",
    "g = g.map(sns.distplot, \"value\", kde=False)\n",
    "g.set_titles(row_template = '{row_name}', col_template = '{col_name}')\n",
    "g.fig.tight_layout()"
   ]
  },
  {
   "cell_type": "markdown",
   "metadata": {},
   "source": [
    "### Missing values"
   ]
  },
  {
   "cell_type": "code",
   "execution_count": null,
   "metadata": {},
   "outputs": [],
   "source": [
    "df.isna().sum().sort_values(ascending=False).head(10)"
   ]
  },
  {
   "cell_type": "markdown",
   "metadata": {},
   "source": [
    "### Associations with response"
   ]
  },
  {
   "cell_type": "code",
   "execution_count": null,
   "metadata": {},
   "outputs": [],
   "source": [
    "# Grouped categoric\n",
    "fig, axes = plt.subplots(3, 3, figsize=(12, 10))\n",
    "\n",
    "for i, v in enumerate(ordinal_vars):\n",
    "    sns.countplot(v, hue=response, data=df, ax=axes[i // 3][i % 3])\n",
    "fig.tight_layout()\n",
    "\n",
    "# Grouped numeric\n",
    "dflong = df[num_vars + [response]].melt(id_vars=[response])\n",
    "g = sns.catplot(response, \"value\", sharex=False, sharey=False, kind=\"box\", \n",
    "                data=dflong, col=\"variable\", col_wrap=2, showfliers=False)\n",
    "g.set_titles(row_template = '{row_name}', col_template = '{col_name}');"
   ]
  },
  {
   "cell_type": "markdown",
   "metadata": {},
   "source": [
    "## Prepare data for modeling"
   ]
  },
  {
   "cell_type": "code",
   "execution_count": null,
   "metadata": {},
   "outputs": [],
   "source": [
    "# Safe preprocessing\n",
    "from sklearn.preprocessing import OrdinalEncoder\n",
    "from sklearn.impute import SimpleImputer\n",
    "from sklearn.pipeline import make_pipeline\n",
    "from sklearn.compose import make_column_transformer\n",
    "\n",
    "# Define transformer (note: OrdinalEncoder does not allow for missing values)\n",
    "imputer = make_column_transformer((SimpleImputer(strategy=\"median\"), num_vars),\n",
    "                                  (SimpleImputer(strategy=\"constant\", fill_value=\"most_frequent\"), ordinal_vars))\n",
    "ordinal_encoder = make_column_transformer((OrdinalEncoder(), ordinal_vars))\n",
    "\n",
    "# Response & features\n",
    "y = df[response]\n",
    "X = df[features]\n",
    "\n",
    "# Apply imputer\n",
    "X[features] = imputer.fit_transform(X)\n",
    "\n",
    "# Branch further preprocessing from interpretation\n",
    "X_display = X.copy()\n",
    "\n",
    "print(\"Data structure for interpretation:\\n\\n\", X_display.head())\n",
    "\n",
    "# Integer coding\n",
    "X[ordinal_vars] = ordinal_encoder.fit_transform(X)"
   ]
  },
  {
   "cell_type": "markdown",
   "metadata": {},
   "source": [
    "## Modeling\n",
    "\n",
    "### Data split"
   ]
  },
  {
   "cell_type": "code",
   "execution_count": null,
   "metadata": {},
   "outputs": [],
   "source": [
    "# Data split\n",
    "from sklearn.model_selection import train_test_split\n",
    "import lightgbm as lgb\n",
    "\n",
    "# create a train/test split\n",
    "X_display_train, X_display_test, X_train, X_test, y_train, y_test = train_test_split(\n",
    "    X_display, X, y, test_size=0.2, random_state=7, shuffle=True)\n",
    "\n",
    "dtrain = lgb.Dataset(X_train, \n",
    "                     label=y_train, \n",
    "                     categorical_feature=[\"cat feature\"], \n",
    "                     free_raw_data=False)"
   ]
  },
  {
   "cell_type": "markdown",
   "metadata": {},
   "source": [
    "### Tune model"
   ]
  },
  {
   "cell_type": "code",
   "execution_count": null,
   "metadata": {},
   "outputs": [],
   "source": [
    "# Cross-validation for iterative parameter selection\n",
    "if False:\n",
    "    params = {\n",
    "        \"learning_rate\": 0.1,\n",
    "        \"num_leaves\": 10,\n",
    "        'min_child_samples': 20,\n",
    "        'min_split_gain': 0.0001,\n",
    "        'subsample': 0.9,\n",
    "        'bagging_freq': 1,\n",
    "        'colsample_bytree': 0.7,\n",
    "        'reg_alpha': 2,\n",
    "        'reg_lambda': 2,\n",
    "        \"verbose\": 2,\n",
    "        \"objective\": \"binary\",\n",
    "        \"metric\": \"binary_logloss\",\n",
    "        \"nthread\": 8\n",
    "    }\n",
    "\n",
    "    # Parameters where tuned in this order - should add randomized grid search after preselection\n",
    "    key = \"num_leaves\"; varying = [7, 15, 31, 63]\n",
    "\n",
    "    for i, v in enumerate(varying):\n",
    "        params[key] = v\n",
    "\n",
    "        cv_results = lgb.cv(\n",
    "            params,\n",
    "            dtrain,\n",
    "            num_boost_round=1000,\n",
    "            nfold=5,\n",
    "            early_stopping_rounds=20)\n",
    "        logloss = cv_results['binary_logloss-mean']\n",
    "        print(v, f\"({len(logloss)}):\\t\", logloss[-1])"
   ]
  },
  {
   "cell_type": "markdown",
   "metadata": {},
   "source": [
    "### Fit model"
   ]
  },
  {
   "cell_type": "code",
   "execution_count": null,
   "metadata": {},
   "outputs": [],
   "source": [
    "# Reasonable params\n",
    "params = {\n",
    "    \"learning_rate\": 0.1,\n",
    "    \"num_leaves\": 10,\n",
    "    'min_child_samples': 20,\n",
    "    'min_split_gain': 0.0001,\n",
    "    'subsample': 0.9,\n",
    "    'bagging_freq': 1,\n",
    "    'colsample_bytree': 0.7,\n",
    "    'reg_alpha': 2,\n",
    "    'reg_lambda': 2,\n",
    "    \"verbose\": 2,\n",
    "    \"objective\": \"binary\",\n",
    "    \"metric\": \"binary_logloss\",\n",
    "    \"nthread\": 8\n",
    "}\n",
    "\n",
    "# Fit the model\n",
    "model = lgb.train(params, dtrain, 530)"
   ]
  },
  {
   "cell_type": "markdown",
   "metadata": {},
   "source": [
    "### Performance\n",
    "\n",
    "ROC (with AUC) on both training and test data."
   ]
  },
  {
   "cell_type": "code",
   "execution_count": null,
   "metadata": {},
   "outputs": [],
   "source": [
    "# Performance (ROC Plot)\n",
    "from sklearn.metrics import roc_auc_score, roc_curve\n",
    "pred_train = model.predict(X_train)\n",
    "pred_test = model.predict(X_test)\n",
    "\n",
    "# ROC \n",
    "fpr_train, tpr_train, _ = roc_curve(y_train, pred_train)\n",
    "fpr_test, tpr_test, _ = roc_curve(y_test, pred_test)\n",
    "\n",
    "fig, axis = plt.subplots(figsize=(6, 3))\n",
    "axis.plot(fpr_train, tpr_train, label='Train AUC: {:.2f}'.format(roc_auc_score(y_train, pred_train)))\n",
    "axis.plot(fpr_test, tpr_test, label='Test AUC: {:.2f}'.format(roc_auc_score(y_test, pred_test)))\n",
    "axis.legend();"
   ]
  },
  {
   "cell_type": "markdown",
   "metadata": {},
   "source": [
    "## Explain model"
   ]
  },
  {
   "cell_type": "code",
   "execution_count": null,
   "metadata": {},
   "outputs": [],
   "source": [
    "import shap\n",
    "\n",
    "# print the JS visualization code to the notebook\n",
    "shap.initjs()\n",
    "\n",
    "# Number of SHAP decompositions\n",
    "N_SHAP = 2000 \n",
    "\n",
    "# Initialize tree explainer\n",
    "explainer = shap.TreeExplainer(model)\n",
    "\n",
    "# Calculate N_SHAP decompositions\n",
    "shap_values = explainer.shap_values(X_train[:N_SHAP])[1]"
   ]
  },
  {
   "cell_type": "markdown",
   "metadata": {},
   "source": [
    "### Variable importance"
   ]
  },
  {
   "cell_type": "code",
   "execution_count": null,
   "metadata": {},
   "outputs": [],
   "source": [
    "shap.summary_plot(shap_values, X_train[:N_SHAP], plot_type=\"bar\")"
   ]
  },
  {
   "cell_type": "markdown",
   "metadata": {},
   "source": [
    "### Effects plots"
   ]
  },
  {
   "cell_type": "code",
   "execution_count": null,
   "metadata": {},
   "outputs": [],
   "source": [
    "for name in sorted_cols:\n",
    "    shap.dependence_plot(name, shap_values, X_train[:N_SHAP], display_features=X_display_train[:N_SHAP], \n",
    "                         show=False, alpha=0.1, dot_size=4, x_jitter=0.1, \n",
    "                         xmin=\"percentile(1)\", xmax=\"percentile(99)\")\n",
    "    plt.title(f\"Dependence plot - {name}\", fontdict={'fontsize': 15})\n",
    "    plt.show()"
   ]
  }
 ],
 "metadata": {
  "kernelspec": {
   "display_name": "Python 3",
   "language": "python",
   "name": "python3"
  },
  "language_info": {
   "codemirror_mode": {
    "name": "ipython",
    "version": 3
   },
   "file_extension": ".py",
   "mimetype": "text/x-python",
   "name": "python",
   "nbconvert_exporter": "python",
   "pygments_lexer": "ipython3",
   "version": "3.7.4"
  }
 },
 "nbformat": 4,
 "nbformat_minor": 4
}
